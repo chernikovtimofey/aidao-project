{
 "cells": [
  {
   "cell_type": "code",
   "execution_count": 1,
   "id": "1e966849-0062-4f36-af81-8a62127f3354",
   "metadata": {},
   "outputs": [],
   "source": [
    "import numpy as np\n",
    "from sklearn.cluster import KMeans\n",
    "from sklearn.preprocessing import StandardScaler\n",
    "from sklearn.pipeline import make_pipeline\n",
    "import pandas as pd"
   ]
  },
  {
   "cell_type": "markdown",
   "id": "ec6f6772-0eba-436b-bb8d-e03e4accc5cb",
   "metadata": {},
   "source": [
    "## Разделим данные на разные атласы"
   ]
  },
  {
   "cell_type": "code",
   "execution_count": 2,
   "id": "a4769dc1-2ede-4d87-8800-d897f556d699",
   "metadata": {},
   "outputs": [],
   "source": [
    "data = np.load('./ihb.npy')"
   ]
  },
  {
   "cell_type": "code",
   "execution_count": 3,
   "id": "457c7bc6-dd61-4e87-bb10-e479b46aaf82",
   "metadata": {},
   "outputs": [
    {
     "name": "stdout",
     "output_type": "stream",
     "text": [
      "Shape full data: (320, 10, 246)\n"
     ]
    }
   ],
   "source": [
    "print(\"Shape full data:\", data.shape)"
   ]
  },
  {
   "cell_type": "code",
   "execution_count": 4,
   "id": "22728be3-36f4-4ce0-aa76-d89897a025e1",
   "metadata": {},
   "outputs": [
    {
     "name": "stdout",
     "output_type": "stream",
     "text": [
      "Shape of Brainnetome data: (160, 10, 246)\n",
      "Shape of Schaefer200 data: (160, 10, 246)\n"
     ]
    }
   ],
   "source": [
    "# Функция для определения, содержат ли данные np.nan\n",
    "def is_schaefer(sample):\n",
    "    # Возвращает True, если в данных есть хотя бы один np.nan\n",
    "    return np.isnan(sample).any()\n",
    "    \n",
    "# Получаем индексы для каждого раздела\n",
    "brainnetome_indices = np.array([i for i, sample in enumerate(data) if not is_schaefer(sample)])\n",
    "schaefer_indices = np.array([i for i, sample in enumerate(data) if is_schaefer(sample)])\n",
    "\n",
    "# Разделяем данные\n",
    "brainnetome_data = data[brainnetome_indices]\n",
    "schaefer_data = data[schaefer_indices]\n",
    "\n",
    "# Проверяем размеры разделенных наборов данных\n",
    "print(\"Shape of Brainnetome data:\", brainnetome_data.shape)\n",
    "print(\"Shape of Schaefer200 data:\", schaefer_data.shape)"
   ]
  },
  {
   "cell_type": "markdown",
   "id": "34df38ee-957f-4b9d-a14f-541f65ee9073",
   "metadata": {},
   "source": [
    "- 10 объектов, для каждого 16 снимков\n",
    "\n",
    "- для каждого снимка 10 фоток (10 временных измерений)\n",
    "\n",
    "- в каждом измерении 246 фичей"
   ]
  },
  {
   "cell_type": "markdown",
   "id": "00810314-4b73-4891-9bbc-5f24f7562baa",
   "metadata": {},
   "source": [
    "# I способ"
   ]
  },
  {
   "cell_type": "markdown",
   "id": "ac9f4ad7-24d1-4afe-802a-73e1c88da600",
   "metadata": {},
   "source": [
    "## Кластеризация объектов для Brainnetome"
   ]
  },
  {
   "cell_type": "markdown",
   "id": "0a0eedcf-5dd0-448b-9c2e-5be5fa9e8424",
   "metadata": {},
   "source": [
    "Сделаем кластеризацию для 10и объектов\n",
    "\n",
    "Обучим модели на каждой фиче, которые есть в выборке. \n",
    "\n",
    "Запишем все лейблы, а потом выберем самое частовстречающееся значение этих лейблов"
   ]
  },
  {
   "cell_type": "code",
   "execution_count": 5,
   "id": "853d8f74-ff1d-440e-a52b-0e3fedc6e0cf",
   "metadata": {},
   "outputs": [],
   "source": [
    "all_labeling_brainnetome = []\n",
    "\n",
    "for i in range(246): # i - итерация по каждой фиче из 246\n",
    "    common_brain_region_data = brainnetome_data[:, :, i]\n",
    "    model = make_pipeline(StandardScaler(), KMeans(n_clusters=10))\n",
    "    model.fit(common_brain_region_data)\n",
    "\n",
    "    cluster_distances = model.transform(common_brain_region_data)\n",
    "    labeling_brainnetome = np.zeros(len(brainnetome_data), dtype=int)\n",
    "    leftover_indexes = np.arange(len(brainnetome_data))\n",
    "    for i in range(10):\n",
    "        distances_from_current_cluster_center = cluster_distances[:, i]\n",
    "        if len(distances_from_current_cluster_center) > 16:\n",
    "            top16 = np.argpartition(distances_from_current_cluster_center, 16)[:16]\n",
    "            labeling_brainnetome[leftover_indexes[top16]] = i\n",
    "            cluster_distances = np.delete(cluster_distances, top16, axis=0)\n",
    "            leftover_indexes = np.delete(leftover_indexes, top16)\n",
    "        else:\n",
    "            labeling_brainnetome[leftover_indexes] = i\n",
    "\n",
    "    all_labeling_brainnetome.append(labeling_brainnetome)"
   ]
  },
  {
   "cell_type": "code",
   "execution_count": 6,
   "id": "2878a2df-25c4-4b33-a444-80a897c5a8d1",
   "metadata": {},
   "outputs": [],
   "source": [
    "# Инициализация нового массива для хранения результата\n",
    "result_array = [[0] * 246 for _ in range(160)]\n",
    "\n",
    "# Заполнение result_array\n",
    "for i in range(246):\n",
    "    for j in range(160):\n",
    "        result_array[j][i] = all_labeling_brainnetome[i][j]\n",
    "\n",
    "# Теперь result_array содержит 160 объектов, каждый из которых содержит 246 чисел"
   ]
  },
  {
   "cell_type": "code",
   "execution_count": 7,
   "id": "e53b0c69-15c5-4e59-8a83-e0afd7188b68",
   "metadata": {},
   "outputs": [],
   "source": [
    "new_result_array_labeling_brainnetome = []\n",
    "\n",
    "for label in result_array:\n",
    "    counts = [label.count(i) for i in range(10)]  # Считаем количество для каждого числа от 0 до 9\n",
    "    max_count = max(counts)  # Находим максимальное количество\n",
    "    max_index = counts.index(max_count)  # Находим индекс максимального количества\n",
    "    new_result_array_labeling_brainnetome.append(max_index)  # Добавляем индекс в новый массив\n",
    "   "
   ]
  },
  {
   "cell_type": "raw",
   "id": "3ac6f8f2-e6fd-4aa6-aec4-e4b9a481292c",
   "metadata": {},
   "source": [
    "new_result_array_labeling_brainnetome"
   ]
  },
  {
   "cell_type": "markdown",
   "id": "158bf0c6-5b51-4010-b181-e6e723523b81",
   "metadata": {},
   "source": [
    "## Кластеризация объектов для Schaefer200 с заполненными нулями нанами"
   ]
  },
  {
   "cell_type": "markdown",
   "id": "d667794c-4af2-4761-9e83-b8e604d1dc6c",
   "metadata": {},
   "source": [
    "аналогично предыдущему пункту"
   ]
  },
  {
   "cell_type": "code",
   "execution_count": 8,
   "id": "b0dc261f-ea73-4481-adc3-4a5f056ba148",
   "metadata": {
    "collapsed": true,
    "jupyter": {
     "outputs_hidden": true
    },
    "scrolled": true
   },
   "outputs": [
    {
     "name": "stderr",
     "output_type": "stream",
     "text": [
      "/home/vmnikitina/.local/lib/python3.10/site-packages/sklearn/base.py:1473: ConvergenceWarning: Number of distinct clusters (1) found smaller than n_clusters (10). Possibly due to duplicate points in X.\n",
      "  return fit_method(estimator, *args, **kwargs)\n",
      "/home/vmnikitina/.local/lib/python3.10/site-packages/sklearn/base.py:1473: ConvergenceWarning: Number of distinct clusters (1) found smaller than n_clusters (10). Possibly due to duplicate points in X.\n",
      "  return fit_method(estimator, *args, **kwargs)\n",
      "/home/vmnikitina/.local/lib/python3.10/site-packages/sklearn/base.py:1473: ConvergenceWarning: Number of distinct clusters (1) found smaller than n_clusters (10). Possibly due to duplicate points in X.\n",
      "  return fit_method(estimator, *args, **kwargs)\n",
      "/home/vmnikitina/.local/lib/python3.10/site-packages/sklearn/base.py:1473: ConvergenceWarning: Number of distinct clusters (1) found smaller than n_clusters (10). Possibly due to duplicate points in X.\n",
      "  return fit_method(estimator, *args, **kwargs)\n",
      "/home/vmnikitina/.local/lib/python3.10/site-packages/sklearn/base.py:1473: ConvergenceWarning: Number of distinct clusters (1) found smaller than n_clusters (10). Possibly due to duplicate points in X.\n",
      "  return fit_method(estimator, *args, **kwargs)\n",
      "/home/vmnikitina/.local/lib/python3.10/site-packages/sklearn/base.py:1473: ConvergenceWarning: Number of distinct clusters (1) found smaller than n_clusters (10). Possibly due to duplicate points in X.\n",
      "  return fit_method(estimator, *args, **kwargs)\n",
      "/home/vmnikitina/.local/lib/python3.10/site-packages/sklearn/base.py:1473: ConvergenceWarning: Number of distinct clusters (1) found smaller than n_clusters (10). Possibly due to duplicate points in X.\n",
      "  return fit_method(estimator, *args, **kwargs)\n",
      "/home/vmnikitina/.local/lib/python3.10/site-packages/sklearn/base.py:1473: ConvergenceWarning: Number of distinct clusters (1) found smaller than n_clusters (10). Possibly due to duplicate points in X.\n",
      "  return fit_method(estimator, *args, **kwargs)\n",
      "/home/vmnikitina/.local/lib/python3.10/site-packages/sklearn/base.py:1473: ConvergenceWarning: Number of distinct clusters (1) found smaller than n_clusters (10). Possibly due to duplicate points in X.\n",
      "  return fit_method(estimator, *args, **kwargs)\n",
      "/home/vmnikitina/.local/lib/python3.10/site-packages/sklearn/base.py:1473: ConvergenceWarning: Number of distinct clusters (1) found smaller than n_clusters (10). Possibly due to duplicate points in X.\n",
      "  return fit_method(estimator, *args, **kwargs)\n",
      "/home/vmnikitina/.local/lib/python3.10/site-packages/sklearn/base.py:1473: ConvergenceWarning: Number of distinct clusters (1) found smaller than n_clusters (10). Possibly due to duplicate points in X.\n",
      "  return fit_method(estimator, *args, **kwargs)\n",
      "/home/vmnikitina/.local/lib/python3.10/site-packages/sklearn/base.py:1473: ConvergenceWarning: Number of distinct clusters (1) found smaller than n_clusters (10). Possibly due to duplicate points in X.\n",
      "  return fit_method(estimator, *args, **kwargs)\n",
      "/home/vmnikitina/.local/lib/python3.10/site-packages/sklearn/base.py:1473: ConvergenceWarning: Number of distinct clusters (1) found smaller than n_clusters (10). Possibly due to duplicate points in X.\n",
      "  return fit_method(estimator, *args, **kwargs)\n",
      "/home/vmnikitina/.local/lib/python3.10/site-packages/sklearn/base.py:1473: ConvergenceWarning: Number of distinct clusters (1) found smaller than n_clusters (10). Possibly due to duplicate points in X.\n",
      "  return fit_method(estimator, *args, **kwargs)\n",
      "/home/vmnikitina/.local/lib/python3.10/site-packages/sklearn/base.py:1473: ConvergenceWarning: Number of distinct clusters (1) found smaller than n_clusters (10). Possibly due to duplicate points in X.\n",
      "  return fit_method(estimator, *args, **kwargs)\n",
      "/home/vmnikitina/.local/lib/python3.10/site-packages/sklearn/base.py:1473: ConvergenceWarning: Number of distinct clusters (1) found smaller than n_clusters (10). Possibly due to duplicate points in X.\n",
      "  return fit_method(estimator, *args, **kwargs)\n",
      "/home/vmnikitina/.local/lib/python3.10/site-packages/sklearn/base.py:1473: ConvergenceWarning: Number of distinct clusters (1) found smaller than n_clusters (10). Possibly due to duplicate points in X.\n",
      "  return fit_method(estimator, *args, **kwargs)\n",
      "/home/vmnikitina/.local/lib/python3.10/site-packages/sklearn/base.py:1473: ConvergenceWarning: Number of distinct clusters (1) found smaller than n_clusters (10). Possibly due to duplicate points in X.\n",
      "  return fit_method(estimator, *args, **kwargs)\n",
      "/home/vmnikitina/.local/lib/python3.10/site-packages/sklearn/base.py:1473: ConvergenceWarning: Number of distinct clusters (1) found smaller than n_clusters (10). Possibly due to duplicate points in X.\n",
      "  return fit_method(estimator, *args, **kwargs)\n",
      "/home/vmnikitina/.local/lib/python3.10/site-packages/sklearn/base.py:1473: ConvergenceWarning: Number of distinct clusters (1) found smaller than n_clusters (10). Possibly due to duplicate points in X.\n",
      "  return fit_method(estimator, *args, **kwargs)\n",
      "/home/vmnikitina/.local/lib/python3.10/site-packages/sklearn/base.py:1473: ConvergenceWarning: Number of distinct clusters (1) found smaller than n_clusters (10). Possibly due to duplicate points in X.\n",
      "  return fit_method(estimator, *args, **kwargs)\n",
      "/home/vmnikitina/.local/lib/python3.10/site-packages/sklearn/base.py:1473: ConvergenceWarning: Number of distinct clusters (1) found smaller than n_clusters (10). Possibly due to duplicate points in X.\n",
      "  return fit_method(estimator, *args, **kwargs)\n",
      "/home/vmnikitina/.local/lib/python3.10/site-packages/sklearn/base.py:1473: ConvergenceWarning: Number of distinct clusters (1) found smaller than n_clusters (10). Possibly due to duplicate points in X.\n",
      "  return fit_method(estimator, *args, **kwargs)\n",
      "/home/vmnikitina/.local/lib/python3.10/site-packages/sklearn/base.py:1473: ConvergenceWarning: Number of distinct clusters (1) found smaller than n_clusters (10). Possibly due to duplicate points in X.\n",
      "  return fit_method(estimator, *args, **kwargs)\n",
      "/home/vmnikitina/.local/lib/python3.10/site-packages/sklearn/base.py:1473: ConvergenceWarning: Number of distinct clusters (1) found smaller than n_clusters (10). Possibly due to duplicate points in X.\n",
      "  return fit_method(estimator, *args, **kwargs)\n",
      "/home/vmnikitina/.local/lib/python3.10/site-packages/sklearn/base.py:1473: ConvergenceWarning: Number of distinct clusters (1) found smaller than n_clusters (10). Possibly due to duplicate points in X.\n",
      "  return fit_method(estimator, *args, **kwargs)\n",
      "/home/vmnikitina/.local/lib/python3.10/site-packages/sklearn/base.py:1473: ConvergenceWarning: Number of distinct clusters (1) found smaller than n_clusters (10). Possibly due to duplicate points in X.\n",
      "  return fit_method(estimator, *args, **kwargs)\n",
      "/home/vmnikitina/.local/lib/python3.10/site-packages/sklearn/base.py:1473: ConvergenceWarning: Number of distinct clusters (1) found smaller than n_clusters (10). Possibly due to duplicate points in X.\n",
      "  return fit_method(estimator, *args, **kwargs)\n",
      "/home/vmnikitina/.local/lib/python3.10/site-packages/sklearn/base.py:1473: ConvergenceWarning: Number of distinct clusters (1) found smaller than n_clusters (10). Possibly due to duplicate points in X.\n",
      "  return fit_method(estimator, *args, **kwargs)\n",
      "/home/vmnikitina/.local/lib/python3.10/site-packages/sklearn/base.py:1473: ConvergenceWarning: Number of distinct clusters (1) found smaller than n_clusters (10). Possibly due to duplicate points in X.\n",
      "  return fit_method(estimator, *args, **kwargs)\n",
      "/home/vmnikitina/.local/lib/python3.10/site-packages/sklearn/base.py:1473: ConvergenceWarning: Number of distinct clusters (1) found smaller than n_clusters (10). Possibly due to duplicate points in X.\n",
      "  return fit_method(estimator, *args, **kwargs)\n",
      "/home/vmnikitina/.local/lib/python3.10/site-packages/sklearn/base.py:1473: ConvergenceWarning: Number of distinct clusters (1) found smaller than n_clusters (10). Possibly due to duplicate points in X.\n",
      "  return fit_method(estimator, *args, **kwargs)\n",
      "/home/vmnikitina/.local/lib/python3.10/site-packages/sklearn/base.py:1473: ConvergenceWarning: Number of distinct clusters (1) found smaller than n_clusters (10). Possibly due to duplicate points in X.\n",
      "  return fit_method(estimator, *args, **kwargs)\n",
      "/home/vmnikitina/.local/lib/python3.10/site-packages/sklearn/base.py:1473: ConvergenceWarning: Number of distinct clusters (1) found smaller than n_clusters (10). Possibly due to duplicate points in X.\n",
      "  return fit_method(estimator, *args, **kwargs)\n",
      "/home/vmnikitina/.local/lib/python3.10/site-packages/sklearn/base.py:1473: ConvergenceWarning: Number of distinct clusters (1) found smaller than n_clusters (10). Possibly due to duplicate points in X.\n",
      "  return fit_method(estimator, *args, **kwargs)\n",
      "/home/vmnikitina/.local/lib/python3.10/site-packages/sklearn/base.py:1473: ConvergenceWarning: Number of distinct clusters (1) found smaller than n_clusters (10). Possibly due to duplicate points in X.\n",
      "  return fit_method(estimator, *args, **kwargs)\n",
      "/home/vmnikitina/.local/lib/python3.10/site-packages/sklearn/base.py:1473: ConvergenceWarning: Number of distinct clusters (1) found smaller than n_clusters (10). Possibly due to duplicate points in X.\n",
      "  return fit_method(estimator, *args, **kwargs)\n",
      "/home/vmnikitina/.local/lib/python3.10/site-packages/sklearn/base.py:1473: ConvergenceWarning: Number of distinct clusters (1) found smaller than n_clusters (10). Possibly due to duplicate points in X.\n",
      "  return fit_method(estimator, *args, **kwargs)\n",
      "/home/vmnikitina/.local/lib/python3.10/site-packages/sklearn/base.py:1473: ConvergenceWarning: Number of distinct clusters (1) found smaller than n_clusters (10). Possibly due to duplicate points in X.\n",
      "  return fit_method(estimator, *args, **kwargs)\n",
      "/home/vmnikitina/.local/lib/python3.10/site-packages/sklearn/base.py:1473: ConvergenceWarning: Number of distinct clusters (1) found smaller than n_clusters (10). Possibly due to duplicate points in X.\n",
      "  return fit_method(estimator, *args, **kwargs)\n",
      "/home/vmnikitina/.local/lib/python3.10/site-packages/sklearn/base.py:1473: ConvergenceWarning: Number of distinct clusters (1) found smaller than n_clusters (10). Possibly due to duplicate points in X.\n",
      "  return fit_method(estimator, *args, **kwargs)\n",
      "/home/vmnikitina/.local/lib/python3.10/site-packages/sklearn/base.py:1473: ConvergenceWarning: Number of distinct clusters (1) found smaller than n_clusters (10). Possibly due to duplicate points in X.\n",
      "  return fit_method(estimator, *args, **kwargs)\n",
      "/home/vmnikitina/.local/lib/python3.10/site-packages/sklearn/base.py:1473: ConvergenceWarning: Number of distinct clusters (1) found smaller than n_clusters (10). Possibly due to duplicate points in X.\n",
      "  return fit_method(estimator, *args, **kwargs)\n",
      "/home/vmnikitina/.local/lib/python3.10/site-packages/sklearn/base.py:1473: ConvergenceWarning: Number of distinct clusters (1) found smaller than n_clusters (10). Possibly due to duplicate points in X.\n",
      "  return fit_method(estimator, *args, **kwargs)\n",
      "/home/vmnikitina/.local/lib/python3.10/site-packages/sklearn/base.py:1473: ConvergenceWarning: Number of distinct clusters (1) found smaller than n_clusters (10). Possibly due to duplicate points in X.\n",
      "  return fit_method(estimator, *args, **kwargs)\n",
      "/home/vmnikitina/.local/lib/python3.10/site-packages/sklearn/base.py:1473: ConvergenceWarning: Number of distinct clusters (1) found smaller than n_clusters (10). Possibly due to duplicate points in X.\n",
      "  return fit_method(estimator, *args, **kwargs)\n"
     ]
    }
   ],
   "source": [
    "all_labeling_schaefer = []\n",
    "\n",
    "for i in range(246): \n",
    "    common_brain_region_data = schaefer_data[:, :, i]  # i - итерация по каждой фиче из 246\n",
    "    common_brain_region_data = np.nan_to_num(common_brain_region_data) # заполним наны нулями\n",
    "    model = make_pipeline(StandardScaler(), KMeans(n_clusters=10))\n",
    "    model.fit(common_brain_region_data)\n",
    "\n",
    "    cluster_distances = model.transform(common_brain_region_data)\n",
    "    labeling_schaefer = np.zeros(len(schaefer_data), dtype=int)\n",
    "    leftover_indexes = np.arange(len(schaefer_data))\n",
    "    for i in range(10):\n",
    "        distances_from_current_cluster_center = cluster_distances[:, i]\n",
    "        if len(distances_from_current_cluster_center) > 16:\n",
    "            top16 = np.argpartition(distances_from_current_cluster_center, 16)[:16]\n",
    "            labeling_schaefer[leftover_indexes[top16]] = i\n",
    "            cluster_distances = np.delete(cluster_distances, top16, axis=0)\n",
    "            leftover_indexes = np.delete(leftover_indexes, top16)\n",
    "        else:\n",
    "            labeling_schaefer[leftover_indexes] = i\n",
    "\n",
    "    all_labeling_schaefer.append(labeling_schaefer)"
   ]
  },
  {
   "cell_type": "code",
   "execution_count": 9,
   "id": "38a69a93-0ab9-4375-97b6-4cf06188d599",
   "metadata": {},
   "outputs": [],
   "source": [
    "# Инициализация нового массива для хранения результата\n",
    "result_array = [[0] * 246 for _ in range(160)]\n",
    "\n",
    "# Заполнение result_array\n",
    "for i in range(246):\n",
    "    for j in range(160):\n",
    "        result_array[j][i] = all_labeling_schaefer[i][j]\n",
    "\n",
    "# Теперь result_array содержит 160 объектов, каждый из которых содержит 246 чисел\n",
    "\n",
    "new_result_array_labeling_schaefer = []\n",
    "\n",
    "for label in result_array:\n",
    "    counts = [label.count(i) for i in range(10)]  # Считаем количество для каждого числа от 0 до 9\n",
    "    max_count = max(counts)  # Находим максимальное количество\n",
    "    max_index = counts.index(max_count)  # Находим индекс максимального количества\n",
    "    new_result_array_labeling_schaefer.append(max_index)  # Добавляем индекс в новый массив\n",
    " "
   ]
  },
  {
   "cell_type": "raw",
   "id": "cff8c07b-101c-4fc1-ad39-fbea13259651",
   "metadata": {},
   "source": [
    "new_result_array_labeling_schaefer"
   ]
  },
  {
   "cell_type": "markdown",
   "id": "d149f66a-f806-4095-b0df-47d38192c521",
   "metadata": {},
   "source": [
    "## Кластеризация объектов для Schaefer200 с удаленными нанами"
   ]
  },
  {
   "cell_type": "markdown",
   "id": "f353befd-cc57-4df9-acd9-34584c838d17",
   "metadata": {},
   "source": [
    "Вот тут стоит посмотреть, где и как нужно удалять и как потом итерировать"
   ]
  },
  {
   "cell_type": "raw",
   "id": "b82838ba-2783-42c2-956a-3739cc704df3",
   "metadata": {},
   "source": [
    "schaefer_dataall_labeling_schaefer = []\n",
    "\n",
    "for i in range(200): \n",
    "    common_brain_region_data = schaefer_data[:, :, i]  # i - итерация по каждой фиче из 246\n",
    "    common_brain_region_data = common_brain_region_data[~np.isnan(common_brain_region_data)] # удалимим наны \n",
    "    model = make_pipeline(StandardScaler(), KMeans(n_clusters=10))\n",
    "    model.fit(common_brain_region_data)\n",
    "\n",
    "    cluster_distances = model.transform(common_brain_region_data)\n",
    "    labeling_schaefer = np.zeros(len(schaefer_data), dtype=int)\n",
    "    leftover_indexes = np.arange(len(schaefer_data))\n",
    "    for i in range(10):\n",
    "        distances_from_current_cluster_center = cluster_distances[:, i]\n",
    "        if len(distances_from_current_cluster_center) > 16:\n",
    "            top16 = np.argpartition(distances_from_current_cluster_center, 16)[:16]\n",
    "            labeling_schaefer[leftover_indexes[top16]] = i\n",
    "            cluster_distances = np.delete(cluster_distances, top16, axis=0)\n",
    "            leftover_indexes = np.delete(leftover_indexes, top16)\n",
    "        else:\n",
    "            labeling_schaefer[leftover_indexes] = i\n",
    "\n",
    "    all_labeling_schaefer.append(labeling_schaefer)"
   ]
  },
  {
   "cell_type": "raw",
   "id": "28cc571b-0b77-4c06-abae-83425b80e342",
   "metadata": {},
   "source": [
    "# Инициализация нового массива для хранения результата\n",
    "result_array = [[0] * 246 for _ in range(160)]\n",
    "\n",
    "# Заполнение result_array\n",
    "for i in range(246):\n",
    "    for j in range(160):\n",
    "        result_array[j][i] = all_labeling_schaefer[i][j]\n",
    "\n",
    "# Теперь result_array содержит 160 объектов, каждый из которых содержит 246 чисел\n",
    "\n",
    "new_result_array_labeling_schaefer_2 = []\n",
    "\n",
    "for label in result_array:\n",
    "    counts = [label.count(i) for i in range(10)]  # Считаем количество для каждого числа от 0 до 9\n",
    "    max_count = max(counts)  # Находим максимальное количество\n",
    "    max_index = counts.index(max_count)  # Находим индекс максимального количества\n",
    "    new_result_array_labeling_schaefer_2.append(max_index)  # Добавляем индекс в новый массив\n",
    " "
   ]
  },
  {
   "cell_type": "raw",
   "id": "bf3eb4b1-26bf-4409-87a6-38b2901d133a",
   "metadata": {},
   "source": [
    "new_result_array_labeling_schaefer_2"
   ]
  },
  {
   "cell_type": "markdown",
   "id": "6f7fa982-6f90-4be5-8929-dd6316759bd2",
   "metadata": {},
   "source": [
    "## Объединим результаты"
   ]
  },
  {
   "cell_type": "code",
   "execution_count": 10,
   "id": "ff8ba0a9-d378-4a45-a461-f6548df147af",
   "metadata": {},
   "outputs": [
    {
     "name": "stdout",
     "output_type": "stream",
     "text": [
      "All predictions: [0 8 7 7 9 9 6 6 9 9 9 9 0 9 9 9 9 9 9 6 1 3 9 5 6 9 9 8 9 1 8 7 3 9 8 2 8\n",
      " 6 8 8 8 4 9 8 8 9 1 8 9 4 0 8 0 7 8 7 8 7 7 7 7 7 5 2 6 7 7 6 1 6 6 5 1 6\n",
      " 6 6 1 6 7 6 6 5 4 0 5 1 5 9 5 2 5 3 6 6 5 7 3 4 4 5 6 9 4 4 2 5 5 5 4 3 5\n",
      " 3 4 9 9 4 4 2 5 4 2 1 9 4 4 6 8 0 4 1 9 4 3 3 0 3 3 6 3 1 3 3 9 3 3 3 2 2\n",
      " 9 0 2 8 2 2 2 2 9 2 5 2 2 2 0 1 3 1 6 0 1 2 1 4 1 1 8 4 1 1 6 9 1 1 1 1 1\n",
      " 0 1 1 4 9 0 3 1 0 0 8 9 0 0 0 7 0 0 0 6 6 9 0 0 1 4 0 0 0 3 8 9 1 4 1 0 1\n",
      " 0 9 0 6 1 0 8 0 8 0 2 3 1 1 2 1 3 1 2 5 2 0 7 2 5 0 3 2 2 8 7 3 1 2 4 4 3\n",
      " 3 4 6 5 3 4 4 5 9 5 7 5 9 4 1 5 5 5 6 6 5 5 6 0 2 3 6 8 7 6 6 2 1 9 7 8 7\n",
      " 7 7 7 7 8 3 7 8 8 3 9 8 3 8 7 7 8 8 7 5 7 7 9 9]\n"
     ]
    }
   ],
   "source": [
    "# с заполненными нанми\n",
    "\n",
    "# Инициализируем массив для хранения всех предсказаний\n",
    "all_predictions = np.empty(data.shape[0], dtype=int)\n",
    "\n",
    "# Заполняем массив предсказаниями\n",
    "all_predictions[brainnetome_indices] = new_result_array_labeling_brainnetome\n",
    "all_predictions[schaefer_indices] = new_result_array_labeling_schaefer\n",
    "\n",
    "# Теперь all_predictions содержит предсказания для всех 320 сэмплов\n",
    "print(\"All predictions:\", all_predictions)"
   ]
  },
  {
   "cell_type": "code",
   "execution_count": 11,
   "id": "45f662a4-1e2c-4df4-b2dd-b9bac6f91f47",
   "metadata": {},
   "outputs": [],
   "source": [
    "pd.DataFrame({'prediction': all_predictions}).to_csv('submission_1.csv', index=False)"
   ]
  },
  {
   "cell_type": "raw",
   "id": "d5b158c1-4239-41aa-bef2-a704409e438e",
   "metadata": {},
   "source": [
    "# c удаленными нанами\n",
    "\n",
    "# Инициализируем массив для хранения всех предсказаний\n",
    "all_predictions_2 = np.empty(data.shape[0], dtype=int)\n",
    "\n",
    "# Заполняем массив предсказаниями\n",
    "all_predictions_2[brainnetome_indices] = new_result_array_labeling_brainnetome\n",
    "all_predictions_2[schaefer_indices] = new_result_array_labeling_schaefer_2\n",
    "\n",
    "# Теперь all_predictions содержит предсказания для всех 320 сэмплов\n",
    "print(\"All predictions:\", all_predictions_2)"
   ]
  },
  {
   "cell_type": "raw",
   "id": "b5ccbced-d5d6-459b-ab64-89abf0f82d4c",
   "metadata": {},
   "source": [
    "pd.DataFrame({'prediction': all_predictions_2}).to_csv('submission_1_2.csv', index=False)"
   ]
  },
  {
   "cell_type": "markdown",
   "id": "7474acdc-5153-4f8d-8d8d-3f0f43c5d550",
   "metadata": {},
   "source": [
    "# II способ"
   ]
  },
  {
   "cell_type": "markdown",
   "id": "f80a0a15-c386-40e8-976c-779b775d53be",
   "metadata": {},
   "source": [
    "## Кластеризация без разделения на атласы"
   ]
  },
  {
   "cell_type": "code",
   "execution_count": 12,
   "id": "7b3a6c78-8f77-43db-aa82-fe256cd592d8",
   "metadata": {},
   "outputs": [],
   "source": [
    "all_labeling = []\n",
    "\n",
    "for i in range(246): \n",
    "    common_brain_region_data = data[:, :, i]\n",
    "    common_brain_region_data = np.nan_to_num(common_brain_region_data) # заполним наны нулями\n",
    "    model = make_pipeline(StandardScaler(), KMeans(n_clusters=20))\n",
    "    model.fit(common_brain_region_data)\n",
    "\n",
    "    cluster_distances = model.transform(common_brain_region_data)\n",
    "    labeling = np.zeros(len(data), dtype=int)\n",
    "    leftover_indexes = np.arange(len(data))\n",
    "    for i in range(20):\n",
    "        distances_from_current_cluster_center = cluster_distances[:, i]\n",
    "        if len(distances_from_current_cluster_center) > 16:\n",
    "            top16 = np.argpartition(distances_from_current_cluster_center, 16)[:16]\n",
    "            labeling[leftover_indexes[top16]] = i\n",
    "            cluster_distances = np.delete(cluster_distances, top16, axis=0)\n",
    "            leftover_indexes = np.delete(leftover_indexes, top16)\n",
    "        else:\n",
    "            labeling[leftover_indexes] = i\n",
    "\n",
    "    all_labeling.append(labeling)"
   ]
  },
  {
   "cell_type": "code",
   "execution_count": 13,
   "id": "ec0ebe7c-7f84-45df-b93e-60cf6cc85508",
   "metadata": {},
   "outputs": [],
   "source": [
    "# Инициализация нового массива для хранения результата\n",
    "result_array = [[0] * 246 for _ in range(320)]\n",
    "\n",
    "# Заполнение result_array\n",
    "for i in range(246):\n",
    "    for j in range(320):\n",
    "        result_array[j][i] = all_labeling[i][j]\n",
    "\n",
    "# Теперь result_array содержит 320 объектов, каждый из которых содержит 246 чисел\n",
    "\n",
    "new_result_array_labeling = []\n",
    "\n",
    "for label in result_array:\n",
    "    counts = [label.count(i) for i in range(10)]  # Считаем количество для каждого числа от 0 до 9\n",
    "    max_count = max(counts)  # Находим максимальное количество\n",
    "    max_index = counts.index(max_count)  # Находим индекс максимального количества\n",
    "    new_result_array_labeling.append(max_index)  # Добавляем индекс в новый массив\n",
    " "
   ]
  },
  {
   "cell_type": "raw",
   "id": "c91cde94-f2c6-4de2-b7cb-a246565d4cfc",
   "metadata": {},
   "source": [
    "new_result_array_labeling"
   ]
  },
  {
   "cell_type": "code",
   "execution_count": 14,
   "id": "1e0a65d0-a6e0-4811-ba6a-0701dad3206d",
   "metadata": {},
   "outputs": [],
   "source": [
    "pd.DataFrame({'prediction': new_result_array_labeling}).to_csv('submission_2.csv', index=False)"
   ]
  },
  {
   "cell_type": "code",
   "execution_count": null,
   "id": "91dce74d-ed49-4c67-8e73-8534eec1df71",
   "metadata": {},
   "outputs": [],
   "source": []
  },
  {
   "cell_type": "code",
   "execution_count": null,
   "id": "964551fb-7c8b-4ee7-a0b2-62aaacc82f9d",
   "metadata": {},
   "outputs": [],
   "source": []
  },
  {
   "cell_type": "markdown",
   "id": "f7e80cd6-92cf-49f9-90b5-3d04fca0070c",
   "metadata": {},
   "source": [
    "# ИДЕИ\n",
    "\n",
    "- нужно попробовать другие варианты скалеров и параметры для них\n",
    "\n",
    "- нужно попробовать метод с удаленными нанами для шафера"
   ]
  },
  {
   "cell_type": "code",
   "execution_count": null,
   "id": "0b894f44-37f3-4b28-ba52-b132358baef4",
   "metadata": {},
   "outputs": [],
   "source": []
  }
 ],
 "metadata": {
  "kernelspec": {
   "display_name": "Python 3 (ipykernel)",
   "language": "python",
   "name": "python3"
  },
  "language_info": {
   "codemirror_mode": {
    "name": "ipython",
    "version": 3
   },
   "file_extension": ".py",
   "mimetype": "text/x-python",
   "name": "python",
   "nbconvert_exporter": "python",
   "pygments_lexer": "ipython3",
   "version": "3.10.12"
  }
 },
 "nbformat": 4,
 "nbformat_minor": 5
}
